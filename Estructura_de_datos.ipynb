{
  "nbformat": 4,
  "nbformat_minor": 0,
  "metadata": {
    "colab": {
      "provenance": [],
      "authorship_tag": "ABX9TyNQ+ikr5gSgEYuMXgOKg38S",
      "include_colab_link": true
    },
    "kernelspec": {
      "name": "python3",
      "display_name": "Python 3"
    },
    "language_info": {
      "name": "python"
    }
  },
  "cells": [
    {
      "cell_type": "markdown",
      "metadata": {
        "id": "view-in-github",
        "colab_type": "text"
      },
      "source": [
        "<a href=\"https://colab.research.google.com/github/Marcolosan/Estructura-de-datos-con-Python/blob/main/Estructura_de_datos.ipynb\" target=\"_parent\"><img src=\"https://colab.research.google.com/assets/colab-badge.svg\" alt=\"Open In Colab\"/></a>"
      ]
    },
    {
      "cell_type": "markdown",
      "source": [
        "**Vectores**"
      ],
      "metadata": {
        "id": "YtbkN_xMTRgs"
      }
    },
    {
      "cell_type": "code",
      "execution_count": 3,
      "metadata": {
        "colab": {
          "base_uri": "https://localhost:8080/"
        },
        "id": "BmiAffXdTQ8j",
        "outputId": "1b53f948-6e48-4cd4-96ac-b3efd905236a"
      },
      "outputs": [
        {
          "output_type": "stream",
          "name": "stdout",
          "text": [
            "[4 5 6]\n",
            "[[1 2 3]\n",
            " [4 5 6]\n",
            " [7 8 9]]\n",
            "Número de elementos en v  3\n",
            "Número de elementos en m  9\n"
          ]
        }
      ],
      "source": [
        "import numpy as np  # Importar la librería de numpy\n",
        "# Vector\n",
        "v = np.array([4, 5, 6])\n",
        "print(v)\n",
        "# Matriz\n",
        "m = np.array([[1, 2, 3], [4, 5, 6], [7, 8, 9]])\n",
        "print(m)\n",
        "\n",
        "print('Número de elementos en v ', v.size)\n",
        "print('Número de elementos en m ', m.size)"
      ]
    },
    {
      "cell_type": "markdown",
      "source": [
        "***Ejercicios 1 - Listas*** \n",
        "\n",
        "Crea un array o arreglo unidimensional donde le indiques el tamaño por teclado y crear una función que rellene el array o arreglo con los múltiplos de un número pedido por teclado. Por ejemplo, si defino un array de tamaño 5 y elijo un 3 en la función, el array contendrá 3, 6, 9, 12, 15. Muestralos por pantalla usando otra función distinta."
      ],
      "metadata": {
        "id": "OARRgNkJWoZP"
      }
    },
    {
      "cell_type": "code",
      "source": [
        "n = int(input(u\"Ingrese el tamaño del arreglo\"))\n",
        "m = int(input(u\"Ingrese el número de múltiplos\"))\n",
        "A = []\n",
        "for i in range (0,n):\n",
        "    A.append(i*m)\n",
        "print (A)"
      ],
      "metadata": {
        "colab": {
          "base_uri": "https://localhost:8080/"
        },
        "id": "muy5WCAoWpn4",
        "outputId": "1530f93a-fd2a-47b4-eb63-0ebeab795bb6"
      },
      "execution_count": 14,
      "outputs": [
        {
          "output_type": "stream",
          "name": "stdout",
          "text": [
            "Ingrese el tamaño del arreglo10\n",
            "Ingrese el número de múltiplos2\n",
            "[0, 2, 4, 6, 8, 10, 12, 14, 16, 18]\n"
          ]
        }
      ]
    }
  ]
}